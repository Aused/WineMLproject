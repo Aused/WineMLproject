{
 "cells": [
  {
   "cell_type": "markdown",
   "id": "6d319890",
   "metadata": {},
   "source": [
    "### Building the neural network model"
   ]
  },
  {
   "cell_type": "code",
   "execution_count": 7,
   "id": "849a2c5f",
   "metadata": {},
   "outputs": [],
   "source": [
    "## Defining the model\n",
    "\n",
    "from keras.models import Sequential\n",
    "from keras.layers import Dense\n",
    "\n",
    "def build_model(params, input_shape):\n",
    "    model = Sequential()\n",
    "    model.add(Dense(params['n_units_layer_0'], activation='relu', input_shape=input_shape))\n",
    "    if 'n_units_layer_1' in params:  # Check if the key exists before adding the layer\n",
    "        model.add(Dense(params['n_units_layer_1'], activation='relu'))\n",
    "    model.add(Dense(3, activation='softmax'))\n",
    "    model.compile(optimizer='adam', loss='sparse_categorical_crossentropy', metrics=['accuracy'])\n",
    "    return model\n",
    "\n"
   ]
  },
  {
   "cell_type": "markdown",
   "id": "7fbd59bc",
   "metadata": {},
   "source": [
    "### Hyperparameter tuning with Baysean optimization"
   ]
  },
  {
   "cell_type": "code",
   "execution_count": null,
   "id": "e8dbbeba",
   "metadata": {},
   "outputs": [],
   "source": [
    "## Defining the objective function and search space\n",
    "\n",
    "from hyperopt import fmin, tpe, hp\n",
    "from keras.callbacks import EarlyStopping\n",
    "\n",
    "# Hyperparameter Space\n",
    "space = {\n",
    "    'n_units_layer_0': hp.choice('n_units_layer_0', [32, 64, 128]),\n",
    "    'n_layers': hp.choice('n_layers', [1, 2]),\n",
    "    'n_units_layer_1': hp.choice('n_units_layer_1', [32, 64, 128]), # Added as a separate option\n",
    "    'epochs': hp.choice('epochs', [50, 100, 150]),\n",
    "    'batch_size': hp.choice('batch_size', [32, 64, 128]),\n",
    "}\n",
    "\n",
    "# Objective Function\n",
    "def objective(params):\n",
    "    if params['n_layers'] == 1:\n",
    "        params.pop('n_units_layer_1') # Remove if n_layers == 1\n",
    "        \n",
    "    model = build_model(params, input_shape=(X_train_scaled.shape[1],))\n",
    "    early_stop = EarlyStopping(monitor='val_loss', patience=10, restore_best_weights=True)\n",
    "    history = model.fit(X_train_scaled, y_train, validation_split=0.2, epochs=params['epochs'], batch_size=params['batch_size'], callbacks=[early_stop], verbose=0)\n",
    "    loss = history.history['val_loss'][-1]\n",
    "    return loss\n",
    "\n",
    "best = fmin(fn=objective, space=space, algo=tpe.suggest, max_evals=30, verbose=2)\n",
    "print(\"Best hyperparameters found: \", best)"
   ]
  }
 ],
 "metadata": {
  "kernelspec": {
   "display_name": "Python 3 (ipykernel)",
   "language": "python",
   "name": "python3"
  },
  "language_info": {
   "codemirror_mode": {
    "name": "ipython",
    "version": 3
   },
   "file_extension": ".py",
   "mimetype": "text/x-python",
   "name": "python",
   "nbconvert_exporter": "python",
   "pygments_lexer": "ipython3",
   "version": "3.10.9"
  }
 },
 "nbformat": 4,
 "nbformat_minor": 5
}
